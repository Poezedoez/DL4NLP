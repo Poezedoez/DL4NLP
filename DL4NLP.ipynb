{
 "cells": [
  {
   "cell_type": "markdown",
   "metadata": {},
   "source": [
    "### DL4NLP mini project\n",
    "\n",
    "#### Group 6\n",
    "\n",
    "Members:\n",
    "- Ragger Jonkers (10542604)\n",
    "- Joeri Sleegers (10631186)\n",
    "- Max Bos (10669027)\n"
   ]
  },
  {
   "cell_type": "code",
   "execution_count": null,
   "metadata": {},
   "outputs": [],
   "source": [
    "import pandas as pd\n",
    "import torch\n",
    "from pytorch_transformers import * ## pip install pytorch_transformers"
   ]
  },
  {
   "cell_type": "markdown",
   "metadata": {},
   "source": [
    "### Read the data"
   ]
  },
  {
   "cell_type": "code",
   "execution_count": 15,
   "metadata": {},
   "outputs": [
    {
     "name": "stdout",
     "output_type": "stream",
     "text": [
      "labels: (117352, 28)\n"
     ]
    },
    {
     "data": {
      "text/plain": [
       "0          #7dayslater is an interactive comedy series f...\n",
       "1          With just one week left in the workshops, the...\n",
       "2          All of the women start making strides towards...\n",
       "3          All five of these women are independent and s...\n",
       "4          Despite having gone through a life changing p...\n",
       "5          #CAKE is a hour-long serial narrative comedy ...\n",
       "6          When you're married to a sports nut, sometime...\n",
       "7          #Elmira follows the story of a bunch of stran...\n",
       "8          Friend Me. Follow Me. Like Me. Fall for Me. #...\n",
       "9          #LawstinWoods follows the story of 6 stranger...\n",
       "10         3 guys who woke up in unfamiliar woods come a...\n",
       "11         The gang discuss their shock over realizing t...\n",
       "12         Monologue Wars pits the 8 Sided Ensemble agai...\n",
       "13         #NotMadMonday is a new, fast-paced talk show ...\n",
       "14         Sketch comedy from the creators of the online...\n",
       "15         Trevor's aunt, Barbara Eyster, has been livin...\n",
       "16         Mónica Fonseca, Colombian hostess, will help ...\n",
       "17         Attila talks about his emotions about the fut...\n",
       "18         The global phenomenon that is the K-pop wave ...\n",
       "19         K-pop is growing! Check out Mnet America's ne...\n",
       "20         K-pop is growing! Check out Mnet America's ne...\n",
       "21         Henry asks a girl out on a date. She says yes...\n",
       "22         Henry goes to a job interview and when he giv...\n",
       "23         A life coach whose motto is Want it, see it h...\n",
       "24         Vince and Bonnie learn their marriage is not ...\n",
       "25         When Ed and Henry go out to a restaurant, the...\n",
       "26         A girl contacts Henry saying she likes his co...\n",
       "27         An updated version of the popular long-runnin...\n",
       "28         A three-episode reality series. A woman has t...\n",
       "29         Can you have fun in New York City on $9.99? B...\n",
       "                                ...                        \n",
       "117322     Clara comes to therapy furious: her phone die...\n",
       "117323     A ferry comes to port. At the same time, a mu...\n",
       "117324     The town is still cut off from all help by sn...\n",
       "117325     Having found the key to the padlock of Hrafn'...\n",
       "117326     Yamashita Kotaro was living a peaceful life a...\n",
       "117327     Kraft Lawrence, a 25 year old peddler travell...\n",
       "117328     Honey's younger brother, Yasuchika, visits Ou...\n",
       "117329     As her father and the headmaster finish regis...\n",
       "117330     Identical twins Hikaru and Kaoru entertain gi...\n",
       "117331     Tamaki, Hikaru and Kaoru fret over what Honey...\n",
       "117332     With Halloween coming up, Haruhi's class gets...\n",
       "117333     Renge Hoshakuji is a Sims-obsessed Parisian g...\n",
       "117334     After the surprise announcement of his engage...\n",
       "117335     On the last day of summer vacation, Tamaki de...\n",
       "117336     A desperate Ouran Academy first-year named Ri...\n",
       "117337     Ouran High's annual invitation to the cultura...\n",
       "117338     Upperclassman Tamaki broods darkly as he real...\n",
       "117339     Kyoya recalls for Haruhi how he and his polar...\n",
       "117340     Having stumbled upon Haruhi's true gender in ...\n",
       "117341     11 years ago, Daghan who was a young doctor c...\n",
       "117342     In no other province have as many cultural bu...\n",
       "117343     Ali Akarsu is a sea captain that is constantl...\n",
       "117344     Surrounded by flames Captain Ali is in a grea...\n",
       "117345     Berrin and Mete react really strongly towards...\n",
       "117346     To everyone shock Ali keeps his promise and b...\n",
       "117347     Ørnen, an Icelandic inspector in the Danish p...\n",
       "117348     Two young kids, Henning and Philip are attrac...\n",
       "117349     Someone tries to kill a motorcycle gang membe...\n",
       "117350     Helen sees her investigation forward signific...\n",
       "117351     Georg Riha is and will remain the master of a...\n",
       "Name: plot, Length: 117352, dtype: object"
      ]
     },
     "execution_count": 15,
     "metadata": {},
     "output_type": "execute_result"
    }
   ],
   "source": [
    "df = pd.read_csv('data/movies_genres.csv', sep='\\t')\n",
    "\n",
    "labels = df.drop(['title', 'plot'], axis=1)\n",
    "print(\"labels:\", labels.shape)\n",
    "\n",
    "X = df['plot']\n",
    "X"
   ]
  },
  {
   "cell_type": "markdown",
   "metadata": {},
   "source": [
    "### Model"
   ]
  },
  {
   "cell_type": "code",
   "execution_count": 1,
   "metadata": {},
   "outputs": [
    {
     "name": "stdout",
     "output_type": "stream",
     "text": [
      "tensor([[  101,  2182,  2003,  2070,  3793,  2000,  4372, 16044,  1012,  2182,\n",
      "          2003,  2070,  2062,  1012,   102]])\n"
     ]
    }
   ],
   "source": [
    "#          Model          | Tokenizer          | Pretrained weights shortcut\n",
    "MODEL = (BertModel,       BertTokenizer,      'bert-base-uncased')\n",
    "\n",
    "BERT_MODEL_CLASS = BertForSequenceClassification\n",
    "\n",
    "tokenizer = BertTokenizer.from_pretrained('bert-base-uncased')\n",
    "model = BERT_MODEL_CLASS.from_pretrained('bert-base-uncased')\n",
    "\n",
    "# Encode text\n",
    "test_string = \"Here is some text to encode. Here is some more.\"\n",
    "input_ids = torch.tensor([tokenizer.encode(test_string, add_special_tokens=True)])  # Add special tokens takes care of adding [CLS], [SEP], <s>... tokens in the right way for each model.\n",
    "print(input_ids)\n",
    "\n",
    "\n",
    "# Simple serialization for models and tokenizers\n",
    "# model.save_pretrained('./directory/to/save/')  # save\n",
    "# model = model_class.from_pretrained('./directory/to/save/')  # re-load\n",
    "# tokenizer.save_pretrained('./directory/to/save/')  # save\n",
    "# tokenizer = tokenizer_class.from_pretrained('./directory/to/save/')  # re-load"
   ]
  }
 ],
 "metadata": {
  "kernelspec": {
   "display_name": "Python 3",
   "language": "python",
   "name": "python3"
  },
  "language_info": {
   "codemirror_mode": {
    "name": "ipython",
    "version": 3
   },
   "file_extension": ".py",
   "mimetype": "text/x-python",
   "name": "python",
   "nbconvert_exporter": "python",
   "pygments_lexer": "ipython3",
   "version": "3.7.3"
  }
 },
 "nbformat": 4,
 "nbformat_minor": 2
}
